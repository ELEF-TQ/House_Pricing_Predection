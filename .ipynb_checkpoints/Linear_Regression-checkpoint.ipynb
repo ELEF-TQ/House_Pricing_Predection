{
 "cells": [
  {
   "cell_type": "code",
   "execution_count": 35,
   "id": "40243a0d-8e6d-4811-81ea-a3f9f6d7577a",
   "metadata": {},
   "outputs": [],
   "source": [
    "import pandas as pd\n",
    "import numpy as np\n",
    "import matplotlib.pyplot as plt\n",
    "import seaborn as sns\n",
    "#split training and test\n",
    "from sklearn.model_selection import train_test_split as tts\n",
    "from sklearn.preprocessing import OneHotEncoder"
   ]
  },
  {
   "cell_type": "code",
   "execution_count": 26,
   "id": "010f790f-4467-4145-b6b2-d3cb817b8f85",
   "metadata": {},
   "outputs": [
    {
     "name": "stdout",
     "output_type": "stream",
     "text": [
      "<class 'pandas.core.frame.DataFrame'>\n",
      "RangeIndex: 4600 entries, 0 to 4599\n",
      "Data columns (total 18 columns):\n",
      " #   Column         Non-Null Count  Dtype  \n",
      "---  ------         --------------  -----  \n",
      " 0   date           4600 non-null   object \n",
      " 1   price          4600 non-null   float64\n",
      " 2   bedrooms       4600 non-null   float64\n",
      " 3   bathrooms      4600 non-null   float64\n",
      " 4   sqft_living    4600 non-null   int64  \n",
      " 5   sqft_lot       4600 non-null   int64  \n",
      " 6   floors         4600 non-null   float64\n",
      " 7   waterfront     4600 non-null   int64  \n",
      " 8   view           4600 non-null   int64  \n",
      " 9   condition      4600 non-null   int64  \n",
      " 10  sqft_above     4600 non-null   int64  \n",
      " 11  sqft_basement  4600 non-null   int64  \n",
      " 12  yr_built       4600 non-null   int64  \n",
      " 13  yr_renovated   4600 non-null   int64  \n",
      " 14  street         4600 non-null   object \n",
      " 15  city           4600 non-null   object \n",
      " 16  statezip       4600 non-null   object \n",
      " 17  country        4600 non-null   object \n",
      "dtypes: float64(4), int64(9), object(5)\n",
      "memory usage: 647.0+ KB\n"
     ]
    }
   ],
   "source": [
    "data = pd.read_csv(\"data.csv\")\n",
    "data.info()\n",
    "if not isinstance(data, pd.DataFrame):\n",
    "    raise TypeError(\"Expected 'data' to be a pandas DataFrame\")"
   ]
  },
  {
   "cell_type": "code",
   "execution_count": 28,
   "id": "c6b0293f-0ca8-474d-964b-079cf1f2a306",
   "metadata": {},
   "outputs": [],
   "source": [
    "# Setting up fields\n",
    "columns = data.columns.tolist()\n",
    "features = np.array([col for col in columns if col != 'price'])\n",
    "\n",
    "# Splitting data\n",
    "x_features = data[features]\n",
    "x_target = data['price']\n",
    "\n",
    "\n",
    "# Handle missing values\n",
    "x_features = x_features.ffill()\n",
    "x_target = x_target.fillna(x_target.mean())\n",
    "\n",
    "# Identify categorical columns\n",
    "categorical_cols = x_features.select_dtypes(include=['object', 'category']).columns.tolist()\n",
    "\n",
    "# Identify date columns and convert them to numerical\n",
    "date_cols = x_features.select_dtypes(include=['datetime', 'datetime64']).columns.tolist()\n",
    "for date_col in date_cols:\n",
    "    x_features[date_col] = pd.to_datetime(x_features[date_col]).astype(int) / 10**9  # Convert to seconds since epoch\n",
    "\n",
    "# Apply OneHotEncoder to categorical columns\n",
    "ohe = OneHotEncoder(sparse_output=False, drop='first')  # Dropping the first category to avoid multicollinearity\n",
    "encoded_categorical = ohe.fit_transform(x_features[categorical_cols])\n",
    "\n",
    "# Convert encoded columns to DataFrame and set proper column names\n",
    "encoded_categorical_df = pd.DataFrame(encoded_categorical, columns=ohe.get_feature_names_out(categorical_cols))\n",
    "\n",
    "# Drop original categorical columns and concatenate the encoded columns\n",
    "x_features = x_features.drop(columns=categorical_cols)\n",
    "x_features = pd.concat([x_features, encoded_categorical_df], axis=1)"
   ]
  },
  {
   "cell_type": "code",
   "execution_count": 29,
   "id": "d9e036e9-4f63-4b26-9e0b-19f88fb6a53c",
   "metadata": {},
   "outputs": [],
   "source": [
    "#Split training from test\n",
    "x_train,x_test,y_train,y_test = tts(x_features,x_target , test_size=0.3,random_state=5)"
   ]
  },
  {
   "cell_type": "code",
   "execution_count": 46,
   "id": "072a1bd5-85bd-4564-9ca6-f95cdfd4ec88",
   "metadata": {},
   "outputs": [
    {
     "name": "stdout",
     "output_type": "stream",
     "text": [
      "Linear Regression Accuracy: -16 %\n"
     ]
    }
   ],
   "source": [
    "from sklearn.linear_model import LinearRegression \n",
    "\n",
    "# Train the model using LinearRegression\n",
    "clf = LinearRegression()\n",
    "clf.fit(x_train, y_train)\n",
    "\n",
    "# Evaluate the model\n",
    "accuracy = clf.score(x_test, y_test)\n",
    "print(\"Linear Regression Accuracy: {} %\".format(int(round(accuracy * 100))))"
   ]
  },
  {
   "cell_type": "code",
   "execution_count": 47,
   "id": "28771b81-849e-4703-8331-8eec6b8bc3ca",
   "metadata": {},
   "outputs": [
    {
     "name": "stdout",
     "output_type": "stream",
     "text": [
      "Ridge Regression Accuracy: 62 %\n"
     ]
    }
   ],
   "source": [
    "from sklearn.linear_model import Ridge\n",
    "\n",
    "# Train the model using Ridge regression\n",
    "clf1 = Ridge()\n",
    "clf1.fit(x_train, y_train)\n",
    "\n",
    "# Evaluate the Ridge regression model\n",
    "ridge_accuracy = clf1.score(x_test, y_test)\n",
    "print(\"Ridge Regression Accuracy: {} %\".format(int(round(ridge_accuracy * 100))))"
   ]
  },
  {
   "cell_type": "code",
   "execution_count": 48,
   "id": "b5b1f50a-77e3-430e-b668-de71a9f2d6e8",
   "metadata": {},
   "outputs": [
    {
     "name": "stdout",
     "output_type": "stream",
     "text": [
      "Random Forest Regression Accuracy: 66 %\n"
     ]
    }
   ],
   "source": [
    "from sklearn.ensemble import RandomForestRegressor\n",
    "\n",
    "# Train the model using RandomForest regression\n",
    "clf2 = RandomForestRegressor(random_state=5)\n",
    "clf2.fit(x_train, y_train)\n",
    "\n",
    "# Evaluate the RandomForest regression model\n",
    "rf_accuracy = clf2.score(x_test, y_test)\n",
    "print(\"Random Forest Regression Accuracy: {} %\".format(int(round(rf_accuracy * 100))))"
   ]
  },
  {
   "cell_type": "code",
   "execution_count": 49,
   "id": "88b45957-e471-49c6-a78d-7007e37af75b",
   "metadata": {},
   "outputs": [
    {
     "name": "stdout",
     "output_type": "stream",
     "text": [
      "Decision Tree Regression Accuracy: 46 %\n"
     ]
    }
   ],
   "source": [
    "from sklearn.tree import DecisionTreeRegressor\n",
    "\n",
    "# Train the model using DecisionTree regression\n",
    "clf4 = DecisionTreeRegressor(random_state=5)\n",
    "clf4.fit(x_train, y_train)\n",
    "\n",
    "# Evaluate the DecisionTree regression model\n",
    "dt_accuracy = clf4.score(x_test, y_test)\n",
    "print(\"Decision Tree Regression Accuracy: {} %\".format(int(round(dt_accuracy * 100))))"
   ]
  },
  {
   "cell_type": "code",
   "execution_count": 50,
   "id": "933a66c1-bf69-4628-8ffc-682640a8a0e2",
   "metadata": {},
   "outputs": [
    {
     "name": "stdout",
     "output_type": "stream",
     "text": [
      "KNeighbors Regression Accuracy: -16 %\n"
     ]
    }
   ],
   "source": [
    "from sklearn.neighbors import KNeighborsRegressor\n",
    "\n",
    "# Train the model using KNeighbors regression\n",
    "clf5 = KNeighborsRegressor()\n",
    "clf5.fit(x_train, y_train)\n",
    "\n",
    "# Evaluate the KNeighbors regression model\n",
    "knn_accuracy = clf5.score(x_test, y_test)\n",
    "print(\"KNeighbors Regression Accuracy: {} %\".format(int(round(knn_accuracy * 100))))"
   ]
  },
  {
   "cell_type": "code",
   "execution_count": null,
   "id": "a94f15a5-048f-465d-ac31-873bd5163f85",
   "metadata": {},
   "outputs": [],
   "source": []
  }
 ],
 "metadata": {
  "kernelspec": {
   "display_name": "Python 3 (ipykernel)",
   "language": "python",
   "name": "python3"
  },
  "language_info": {
   "codemirror_mode": {
    "name": "ipython",
    "version": 3
   },
   "file_extension": ".py",
   "mimetype": "text/x-python",
   "name": "python",
   "nbconvert_exporter": "python",
   "pygments_lexer": "ipython3",
   "version": "3.12.2"
  }
 },
 "nbformat": 4,
 "nbformat_minor": 5
}
